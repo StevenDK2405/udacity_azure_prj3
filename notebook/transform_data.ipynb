{
 "cells": [
  {
   "cell_type": "code",
   "execution_count": 0,
   "metadata": {
    "application/vnd.databricks.v1+cell": {
     "cellMetadata": {
      "byteLimit": 2048000,
      "rowLimit": 10000
     },
     "inputWidgets": {},
     "nuid": "508404ca-bbd3-4344-980d-1f1dfba28ed1",
     "showTitle": false,
     "title": ""
    }
   },
   "outputs": [],
   "source": [
    "from pyspark.sql.functions import *\n",
    "from pyspark.sql.types import TimestampType"
   ]
  },
  {
   "cell_type": "code",
   "execution_count": 0,
   "metadata": {
    "application/vnd.databricks.v1+cell": {
     "cellMetadata": {
      "byteLimit": 2048000,
      "rowLimit": 10000
     },
     "inputWidgets": {},
     "nuid": "04221e56-9f95-4247-9ffd-2cec3decf8ae",
     "showTitle": true,
     "title": "Load fact_payment"
    }
   },
   "outputs": [
    {
     "output_type": "display_data",
     "data": {
      "text/html": [
       "<style scoped>\n",
       "  .table-result-container {\n",
       "    max-height: 300px;\n",
       "    overflow: auto;\n",
       "  }\n",
       "  table, th, td {\n",
       "    border: 1px solid black;\n",
       "    border-collapse: collapse;\n",
       "  }\n",
       "  th, td {\n",
       "    padding: 5px;\n",
       "  }\n",
       "  th {\n",
       "    text-align: left;\n",
       "  }\n",
       "</style><div class='table-result-container'><table class='table-result'><thead style='background-color: white'><tr><th>payment_id</th><th>date</th><th>amount</th><th>rider_id</th></tr></thead><tbody><tr><td>1</td><td>2019-05-01</td><td>9.0</td><td>1000</td></tr><tr><td>2</td><td>2019-06-01</td><td>9.0</td><td>1000</td></tr><tr><td>3</td><td>2019-07-01</td><td>9.0</td><td>1000</td></tr><tr><td>4</td><td>2019-08-01</td><td>9.0</td><td>1000</td></tr><tr><td>5</td><td>2019-09-01</td><td>9.0</td><td>1000</td></tr><tr><td>6</td><td>2019-10-01</td><td>9.0</td><td>1000</td></tr><tr><td>7</td><td>2019-11-01</td><td>9.0</td><td>1000</td></tr><tr><td>8</td><td>2019-12-01</td><td>9.0</td><td>1000</td></tr><tr><td>9</td><td>2020-01-01</td><td>9.0</td><td>1000</td></tr><tr><td>10</td><td>2020-02-01</td><td>9.0</td><td>1000</td></tr></tbody></table></div>"
      ]
     },
     "metadata": {
      "application/vnd.databricks.v1+output": {
       "addedWidgets": {},
       "aggData": [],
       "aggError": "",
       "aggOverflow": false,
       "aggSchema": [],
       "aggSeriesLimitReached": false,
       "aggType": "",
       "arguments": {},
       "columnCustomDisplayInfos": {},
       "data": [
        [
         1,
         "2019-05-01",
         9.0,
         1000
        ],
        [
         2,
         "2019-06-01",
         9.0,
         1000
        ],
        [
         3,
         "2019-07-01",
         9.0,
         1000
        ],
        [
         4,
         "2019-08-01",
         9.0,
         1000
        ],
        [
         5,
         "2019-09-01",
         9.0,
         1000
        ],
        [
         6,
         "2019-10-01",
         9.0,
         1000
        ],
        [
         7,
         "2019-11-01",
         9.0,
         1000
        ],
        [
         8,
         "2019-12-01",
         9.0,
         1000
        ],
        [
         9,
         "2020-01-01",
         9.0,
         1000
        ],
        [
         10,
         "2020-02-01",
         9.0,
         1000
        ]
       ],
       "datasetInfos": [],
       "dbfsResultPath": null,
       "isJsonSchema": true,
       "metadata": {},
       "overflow": false,
       "plotOptions": {
        "customPlotOptions": {},
        "displayType": "table",
        "pivotAggregation": null,
        "pivotColumns": null,
        "xColumns": null,
        "yColumns": null
       },
       "removedWidgets": [],
       "schema": [
        {
         "metadata": "{}",
         "name": "payment_id",
         "type": "\"integer\""
        },
        {
         "metadata": "{\"__detected_date_formats\":\"yyyy-M-d\"}",
         "name": "date",
         "type": "\"date\""
        },
        {
         "metadata": "{}",
         "name": "amount",
         "type": "\"double\""
        },
        {
         "metadata": "{}",
         "name": "rider_id",
         "type": "\"integer\""
        }
       ],
       "type": "table"
      }
     },
     "output_type": "display_data"
    }
   ],
   "source": [
    "payments = spark.table(\"default.staging_payments\")\n",
    "display(payments.limit(10))"
   ]
  },
  {
   "cell_type": "code",
   "execution_count": 0,
   "metadata": {
    "application/vnd.databricks.v1+cell": {
     "cellMetadata": {
      "byteLimit": 2048000,
      "rowLimit": 10000
     },
     "inputWidgets": {},
     "nuid": "9ff8c950-d72f-4999-8749-d7b73c075549",
     "showTitle": false,
     "title": ""
    }
   },
   "outputs": [],
   "source": [
    "# write data to fact_payment\n",
    "spark.sql(\"drop table if exists default.fact_payment\")\n",
    "payments.dropDuplicates([\"payment_id\"]).write.format(\"delta\").mode(\"overwrite\").saveAsTable(\"default.fact_payment\")"
   ]
  },
  {
   "cell_type": "code",
   "execution_count": 0,
   "metadata": {
    "application/vnd.databricks.v1+cell": {
     "cellMetadata": {
      "byteLimit": 2048000,
      "rowLimit": 10000
     },
     "inputWidgets": {},
     "nuid": "3a782bbe-c4f0-4253-b01d-b37f0b4522b6",
     "showTitle": true,
     "title": "Load dim_rider"
    }
   },
   "outputs": [
    {
     "output_type": "display_data",
     "data": {
      "text/html": [
       "<style scoped>\n",
       "  .table-result-container {\n",
       "    max-height: 300px;\n",
       "    overflow: auto;\n",
       "  }\n",
       "  table, th, td {\n",
       "    border: 1px solid black;\n",
       "    border-collapse: collapse;\n",
       "  }\n",
       "  th, td {\n",
       "    padding: 5px;\n",
       "  }\n",
       "  th {\n",
       "    text-align: left;\n",
       "  }\n",
       "</style><div class='table-result-container'><table class='table-result'><thead style='background-color: white'><tr><th>rider_id</th><th>first_name</th><th>last_name</th><th>address</th><th>birthday</th><th>account_start_date</th><th>account_end_date</th><th>is_member</th></tr></thead><tbody><tr><td>1000</td><td>Diana</td><td>Clark</td><td>1200 Alyssa Squares</td><td>1989-02-13</td><td>2019-04-23</td><td>null</td><td>true</td></tr><tr><td>1001</td><td>Jennifer</td><td>Smith</td><td>397 Diana Ferry</td><td>1976-08-10</td><td>2019-11-01</td><td>2020-09-01</td><td>true</td></tr><tr><td>1002</td><td>Karen</td><td>Smith</td><td>644 Brittany Row Apt. 097</td><td>1998-08-10</td><td>2022-02-04</td><td>null</td><td>true</td></tr><tr><td>1003</td><td>Bryan</td><td>Roberts</td><td>996 Dickerson Turnpike</td><td>1999-03-29</td><td>2019-08-26</td><td>null</td><td>false</td></tr><tr><td>1004</td><td>Jesse</td><td>Middleton</td><td>7009 Nathan Expressway</td><td>1969-04-11</td><td>2019-09-14</td><td>null</td><td>true</td></tr><tr><td>1005</td><td>Christine</td><td>Rodriguez</td><td>224 Washington Mills Apt. 467</td><td>1974-08-27</td><td>2020-03-24</td><td>null</td><td>false</td></tr><tr><td>1006</td><td>Alicia</td><td>Taylor</td><td>1137 Angela Locks</td><td>2004-01-30</td><td>2020-11-27</td><td>2021-12-01</td><td>true</td></tr><tr><td>1007</td><td>Benjamin</td><td>Fernandez</td><td>979 Phillips Ways</td><td>1988-01-11</td><td>2016-12-11</td><td>null</td><td>false</td></tr><tr><td>1008</td><td>John</td><td>Crawford</td><td>7691 Evans Court</td><td>1987-02-21</td><td>2021-03-28</td><td>2021-07-01</td><td>true</td></tr><tr><td>1009</td><td>Victoria</td><td>Ritter</td><td>9922 Jim Crest Apt. 319</td><td>1981-02-07</td><td>2020-06-12</td><td>2021-11-01</td><td>true</td></tr></tbody></table></div>"
      ]
     },
     "metadata": {
      "application/vnd.databricks.v1+output": {
       "addedWidgets": {},
       "aggData": [],
       "aggError": "",
       "aggOverflow": false,
       "aggSchema": [],
       "aggSeriesLimitReached": false,
       "aggType": "",
       "arguments": {},
       "columnCustomDisplayInfos": {},
       "data": [
        [
         1000,
         "Diana",
         "Clark",
         "1200 Alyssa Squares",
         "1989-02-13",
         "2019-04-23",
         null,
         true
        ],
        [
         1001,
         "Jennifer",
         "Smith",
         "397 Diana Ferry",
         "1976-08-10",
         "2019-11-01",
         "2020-09-01",
         true
        ],
        [
         1002,
         "Karen",
         "Smith",
         "644 Brittany Row Apt. 097",
         "1998-08-10",
         "2022-02-04",
         null,
         true
        ],
        [
         1003,
         "Bryan",
         "Roberts",
         "996 Dickerson Turnpike",
         "1999-03-29",
         "2019-08-26",
         null,
         false
        ],
        [
         1004,
         "Jesse",
         "Middleton",
         "7009 Nathan Expressway",
         "1969-04-11",
         "2019-09-14",
         null,
         true
        ],
        [
         1005,
         "Christine",
         "Rodriguez",
         "224 Washington Mills Apt. 467",
         "1974-08-27",
         "2020-03-24",
         null,
         false
        ],
        [
         1006,
         "Alicia",
         "Taylor",
         "1137 Angela Locks",
         "2004-01-30",
         "2020-11-27",
         "2021-12-01",
         true
        ],
        [
         1007,
         "Benjamin",
         "Fernandez",
         "979 Phillips Ways",
         "1988-01-11",
         "2016-12-11",
         null,
         false
        ],
        [
         1008,
         "John",
         "Crawford",
         "7691 Evans Court",
         "1987-02-21",
         "2021-03-28",
         "2021-07-01",
         true
        ],
        [
         1009,
         "Victoria",
         "Ritter",
         "9922 Jim Crest Apt. 319",
         "1981-02-07",
         "2020-06-12",
         "2021-11-01",
         true
        ]
       ],
       "datasetInfos": [],
       "dbfsResultPath": null,
       "isJsonSchema": true,
       "metadata": {},
       "overflow": false,
       "plotOptions": {
        "customPlotOptions": {},
        "displayType": "table",
        "pivotAggregation": null,
        "pivotColumns": null,
        "xColumns": null,
        "yColumns": null
       },
       "removedWidgets": [],
       "schema": [
        {
         "metadata": "{}",
         "name": "rider_id",
         "type": "\"integer\""
        },
        {
         "metadata": "{}",
         "name": "first_name",
         "type": "\"string\""
        },
        {
         "metadata": "{}",
         "name": "last_name",
         "type": "\"string\""
        },
        {
         "metadata": "{}",
         "name": "address",
         "type": "\"string\""
        },
        {
         "metadata": "{\"__detected_date_formats\":\"yyyy-M-d\"}",
         "name": "birthday",
         "type": "\"date\""
        },
        {
         "metadata": "{\"__detected_date_formats\":\"yyyy-M-d\"}",
         "name": "account_start_date",
         "type": "\"date\""
        },
        {
         "metadata": "{\"__detected_date_formats\":\"yyyy-M-d\"}",
         "name": "account_end_date",
         "type": "\"date\""
        },
        {
         "metadata": "{}",
         "name": "is_member",
         "type": "\"boolean\""
        }
       ],
       "type": "table"
      }
     },
     "output_type": "display_data"
    }
   ],
   "source": [
    "riders = spark.table(\"default.staging_riders\")\n",
    "display(riders.limit(10))"
   ]
  },
  {
   "cell_type": "code",
   "execution_count": 0,
   "metadata": {
    "application/vnd.databricks.v1+cell": {
     "cellMetadata": {
      "byteLimit": 2048000,
      "rowLimit": 10000
     },
     "inputWidgets": {},
     "nuid": "055896e3-cd9d-46b6-aa38-9ccebddb4be1",
     "showTitle": false,
     "title": ""
    }
   },
   "outputs": [],
   "source": [
    "# write data to dim_rider\n",
    "spark.sql(\"drop table if exists default.dim_rider\")\n",
    "riders.dropDuplicates([\"rider_id\"]).write.format(\"delta\").mode(\"overwrite\").saveAsTable(\"default.dim_rider\")"
   ]
  },
  {
   "cell_type": "code",
   "execution_count": 0,
   "metadata": {
    "application/vnd.databricks.v1+cell": {
     "cellMetadata": {
      "byteLimit": 2048000,
      "rowLimit": 10000
     },
     "inputWidgets": {},
     "nuid": "d85496a1-43fc-4f9b-b72b-614cdf4cd6c1",
     "showTitle": true,
     "title": "Load dim_station"
    }
   },
   "outputs": [
    {
     "output_type": "display_data",
     "data": {
      "text/html": [
       "<style scoped>\n",
       "  .table-result-container {\n",
       "    max-height: 300px;\n",
       "    overflow: auto;\n",
       "  }\n",
       "  table, th, td {\n",
       "    border: 1px solid black;\n",
       "    border-collapse: collapse;\n",
       "  }\n",
       "  th, td {\n",
       "    padding: 5px;\n",
       "  }\n",
       "  th {\n",
       "    text-align: left;\n",
       "  }\n",
       "</style><div class='table-result-container'><table class='table-result'><thead style='background-color: white'><tr><th>station_id</th><th>name</th><th>latitude</th><th>longitude</th></tr></thead><tbody><tr><td>525</td><td>Glenwood Ave & Touhy Ave</td><td>42.012701</td><td>-87.66605799999999</td></tr><tr><td>KA1503000012</td><td>Clark St & Lake St</td><td>41.88579466666667</td><td>-87.63110066666668</td></tr><tr><td>637</td><td>Wood St & Chicago Ave</td><td>41.895634</td><td>-87.672069</td></tr><tr><td>13216</td><td>State St & 33rd St</td><td>41.8347335</td><td>-87.6258275</td></tr><tr><td>18003</td><td>Fairbanks St & Superior St</td><td>41.89580766666667</td><td>-87.62025316666669</td></tr><tr><td>KP1705001026</td><td>LaSalle Dr & Huron St</td><td>41.894877</td><td>-87.632326</td></tr><tr><td>13253</td><td>Lincoln Ave & Waveland Ave</td><td>41.948797</td><td>-87.675278</td></tr><tr><td>KA1503000044</td><td>Rush St & Hubbard St</td><td>41.890173</td><td>-87.62618499999999</td></tr><tr><td>KA1504000140</td><td>Winchester Ave & Elston Ave</td><td>41.92403733333333</td><td>-87.67641483333334</td></tr><tr><td>TA1305000032</td><td>Clinton St & Madison St</td><td>41.882242</td><td>-87.64106600000001</td></tr></tbody></table></div>"
      ]
     },
     "metadata": {
      "application/vnd.databricks.v1+output": {
       "addedWidgets": {},
       "aggData": [],
       "aggError": "",
       "aggOverflow": false,
       "aggSchema": [],
       "aggSeriesLimitReached": false,
       "aggType": "",
       "arguments": {},
       "columnCustomDisplayInfos": {},
       "data": [
        [
         "525",
         "Glenwood Ave & Touhy Ave",
         42.012701,
         -87.66605799999999
        ],
        [
         "KA1503000012",
         "Clark St & Lake St",
         41.88579466666667,
         -87.63110066666668
        ],
        [
         "637",
         "Wood St & Chicago Ave",
         41.895634,
         -87.672069
        ],
        [
         "13216",
         "State St & 33rd St",
         41.8347335,
         -87.6258275
        ],
        [
         "18003",
         "Fairbanks St & Superior St",
         41.89580766666667,
         -87.62025316666669
        ],
        [
         "KP1705001026",
         "LaSalle Dr & Huron St",
         41.894877,
         -87.632326
        ],
        [
         "13253",
         "Lincoln Ave & Waveland Ave",
         41.948797,
         -87.675278
        ],
        [
         "KA1503000044",
         "Rush St & Hubbard St",
         41.890173,
         -87.62618499999999
        ],
        [
         "KA1504000140",
         "Winchester Ave & Elston Ave",
         41.92403733333333,
         -87.67641483333334
        ],
        [
         "TA1305000032",
         "Clinton St & Madison St",
         41.882242,
         -87.64106600000001
        ]
       ],
       "datasetInfos": [],
       "dbfsResultPath": null,
       "isJsonSchema": true,
       "metadata": {},
       "overflow": false,
       "plotOptions": {
        "customPlotOptions": {},
        "displayType": "table",
        "pivotAggregation": null,
        "pivotColumns": null,
        "xColumns": null,
        "yColumns": null
       },
       "removedWidgets": [],
       "schema": [
        {
         "metadata": "{}",
         "name": "station_id",
         "type": "\"string\""
        },
        {
         "metadata": "{}",
         "name": "name",
         "type": "\"string\""
        },
        {
         "metadata": "{}",
         "name": "latitude",
         "type": "\"double\""
        },
        {
         "metadata": "{}",
         "name": "longitude",
         "type": "\"double\""
        }
       ],
       "type": "table"
      }
     },
     "output_type": "display_data"
    }
   ],
   "source": [
    "stations = spark.table(\"default.staging_stations\")\n",
    "display(stations.limit(10))"
   ]
  },
  {
   "cell_type": "code",
   "execution_count": 0,
   "metadata": {
    "application/vnd.databricks.v1+cell": {
     "cellMetadata": {
      "byteLimit": 2048000,
      "rowLimit": 10000
     },
     "inputWidgets": {},
     "nuid": "05ec7ccd-fb62-4c5b-a3bc-3a30b1ff24b4",
     "showTitle": false,
     "title": ""
    }
   },
   "outputs": [],
   "source": [
    "# write data to dim_station\n",
    "spark.sql(\"drop table if exists default.dim_station\")\n",
    "stations.dropDuplicates([\"station_id\"]).write.format(\"delta\").mode(\"overwrite\").saveAsTable(\"default.dim_station\")"
   ]
  },
  {
   "cell_type": "code",
   "execution_count": 0,
   "metadata": {
    "application/vnd.databricks.v1+cell": {
     "cellMetadata": {
      "byteLimit": 2048000,
      "rowLimit": 10000
     },
     "inputWidgets": {},
     "nuid": "039e9eb6-f2fd-463a-ad1b-556aefae45e5",
     "showTitle": true,
     "title": "Load fact_trip"
    }
   },
   "outputs": [
    {
     "output_type": "display_data",
     "data": {
      "text/html": [
       "<style scoped>\n",
       "  .table-result-container {\n",
       "    max-height: 300px;\n",
       "    overflow: auto;\n",
       "  }\n",
       "  table, th, td {\n",
       "    border: 1px solid black;\n",
       "    border-collapse: collapse;\n",
       "  }\n",
       "  th, td {\n",
       "    padding: 5px;\n",
       "  }\n",
       "  th {\n",
       "    text-align: left;\n",
       "  }\n",
       "</style><div class='table-result-container'><table class='table-result'><thead style='background-color: white'><tr><th>trip_id</th><th>rideable_type</th><th>start_at</th><th>ended_at</th><th>start_station_id</th><th>end_station_id</th><th>rider_id</th></tr></thead><tbody><tr><td>89E7AA6C29227EFF</td><td>classic_bike</td><td>2021-02-12T16:14:56Z</td><td>2021-02-12T16:21:43Z</td><td>525</td><td>660</td><td>71934</td></tr><tr><td>0FEFDE2603568365</td><td>classic_bike</td><td>2021-02-14T17:52:38Z</td><td>2021-02-14T18:12:09Z</td><td>525</td><td>16806</td><td>47854</td></tr><tr><td>E6159D746B2DBB91</td><td>electric_bike</td><td>2021-02-09T19:10:18Z</td><td>2021-02-09T19:19:10Z</td><td>KA1503000012</td><td>TA1305000029</td><td>70870</td></tr><tr><td>B32D3199F1C2E75B</td><td>classic_bike</td><td>2021-02-02T17:49:41Z</td><td>2021-02-02T17:54:06Z</td><td>637</td><td>TA1305000034</td><td>58974</td></tr><tr><td>83E463F23575F4BF</td><td>electric_bike</td><td>2021-02-23T15:07:23Z</td><td>2021-02-23T15:22:37Z</td><td>13216</td><td>TA1309000055</td><td>39608</td></tr><tr><td>BDAA7E3494E8D545</td><td>electric_bike</td><td>2021-02-24T15:43:33Z</td><td>2021-02-24T15:49:05Z</td><td>18003</td><td>KP1705001026</td><td>36267</td></tr><tr><td>A772742351171257</td><td>classic_bike</td><td>2021-02-01T17:47:42Z</td><td>2021-02-01T17:48:33Z</td><td>KP1705001026</td><td>KP1705001026</td><td>50104</td></tr><tr><td>295476889D9B79F8</td><td>classic_bike</td><td>2021-02-11T18:33:53Z</td><td>2021-02-11T18:35:09Z</td><td>18003</td><td>18003</td><td>19618</td></tr><tr><td>362087194BA4CC9A</td><td>classic_bike</td><td>2021-02-27T15:13:39Z</td><td>2021-02-27T15:36:36Z</td><td>KP1705001026</td><td>KP1705001026</td><td>16732</td></tr><tr><td>21630F715038CCB0</td><td>classic_bike</td><td>2021-02-20T08:59:42Z</td><td>2021-02-20T09:17:04Z</td><td>KP1705001026</td><td>KP1705001026</td><td>57068</td></tr></tbody></table></div>"
      ]
     },
     "metadata": {
      "application/vnd.databricks.v1+output": {
       "addedWidgets": {},
       "aggData": [],
       "aggError": "",
       "aggOverflow": false,
       "aggSchema": [],
       "aggSeriesLimitReached": false,
       "aggType": "",
       "arguments": {},
       "columnCustomDisplayInfos": {},
       "data": [
        [
         "89E7AA6C29227EFF",
         "classic_bike",
         "2021-02-12T16:14:56Z",
         "2021-02-12T16:21:43Z",
         "525",
         "660",
         71934
        ],
        [
         "0FEFDE2603568365",
         "classic_bike",
         "2021-02-14T17:52:38Z",
         "2021-02-14T18:12:09Z",
         "525",
         "16806",
         47854
        ],
        [
         "E6159D746B2DBB91",
         "electric_bike",
         "2021-02-09T19:10:18Z",
         "2021-02-09T19:19:10Z",
         "KA1503000012",
         "TA1305000029",
         70870
        ],
        [
         "B32D3199F1C2E75B",
         "classic_bike",
         "2021-02-02T17:49:41Z",
         "2021-02-02T17:54:06Z",
         "637",
         "TA1305000034",
         58974
        ],
        [
         "83E463F23575F4BF",
         "electric_bike",
         "2021-02-23T15:07:23Z",
         "2021-02-23T15:22:37Z",
         "13216",
         "TA1309000055",
         39608
        ],
        [
         "BDAA7E3494E8D545",
         "electric_bike",
         "2021-02-24T15:43:33Z",
         "2021-02-24T15:49:05Z",
         "18003",
         "KP1705001026",
         36267
        ],
        [
         "A772742351171257",
         "classic_bike",
         "2021-02-01T17:47:42Z",
         "2021-02-01T17:48:33Z",
         "KP1705001026",
         "KP1705001026",
         50104
        ],
        [
         "295476889D9B79F8",
         "classic_bike",
         "2021-02-11T18:33:53Z",
         "2021-02-11T18:35:09Z",
         "18003",
         "18003",
         19618
        ],
        [
         "362087194BA4CC9A",
         "classic_bike",
         "2021-02-27T15:13:39Z",
         "2021-02-27T15:36:36Z",
         "KP1705001026",
         "KP1705001026",
         16732
        ],
        [
         "21630F715038CCB0",
         "classic_bike",
         "2021-02-20T08:59:42Z",
         "2021-02-20T09:17:04Z",
         "KP1705001026",
         "KP1705001026",
         57068
        ]
       ],
       "datasetInfos": [],
       "dbfsResultPath": null,
       "isJsonSchema": true,
       "metadata": {},
       "overflow": false,
       "plotOptions": {
        "customPlotOptions": {},
        "displayType": "table",
        "pivotAggregation": null,
        "pivotColumns": null,
        "xColumns": null,
        "yColumns": null
       },
       "removedWidgets": [],
       "schema": [
        {
         "metadata": "{}",
         "name": "trip_id",
         "type": "\"string\""
        },
        {
         "metadata": "{}",
         "name": "rideable_type",
         "type": "\"string\""
        },
        {
         "metadata": "{}",
         "name": "start_at",
         "type": "\"timestamp\""
        },
        {
         "metadata": "{}",
         "name": "ended_at",
         "type": "\"timestamp\""
        },
        {
         "metadata": "{}",
         "name": "start_station_id",
         "type": "\"string\""
        },
        {
         "metadata": "{}",
         "name": "end_station_id",
         "type": "\"string\""
        },
        {
         "metadata": "{}",
         "name": "rider_id",
         "type": "\"integer\""
        }
       ],
       "type": "table"
      }
     },
     "output_type": "display_data"
    }
   ],
   "source": [
    "trips = spark.table(\"default.staging_trips\")\n",
    "display(trips.limit(10))"
   ]
  },
  {
   "cell_type": "code",
   "execution_count": 0,
   "metadata": {
    "application/vnd.databricks.v1+cell": {
     "cellMetadata": {
      "byteLimit": 2048000,
      "rowLimit": 10000
     },
     "inputWidgets": {},
     "nuid": "1b0de44f-41fe-45fd-8ccc-01a1c0c5838f",
     "showTitle": false,
     "title": ""
    }
   },
   "outputs": [
    {
     "output_type": "display_data",
     "data": {
      "text/html": [
       "<style scoped>\n",
       "  .table-result-container {\n",
       "    max-height: 300px;\n",
       "    overflow: auto;\n",
       "  }\n",
       "  table, th, td {\n",
       "    border: 1px solid black;\n",
       "    border-collapse: collapse;\n",
       "  }\n",
       "  th, td {\n",
       "    padding: 5px;\n",
       "  }\n",
       "  th {\n",
       "    text-align: left;\n",
       "  }\n",
       "</style><div class='table-result-container'><table class='table-result'><thead style='background-color: white'><tr><th>trip_id</th><th>rider_id</th><th>rideable_type</th><th>start_station_id</th><th>end_station_id</th><th>start_time_id</th><th>end_time_id</th><th>duration</th><th>rider_age</th></tr></thead><tbody><tr><td>89E7AA6C29227EFF</td><td>71934</td><td>classic_bike</td><td>525</td><td>660</td><td>2021-02-12T16:14:56Z</td><td>2021-02-12T16:21:43Z</td><td>7.0</td><td>13638.0</td></tr><tr><td>0FEFDE2603568365</td><td>47854</td><td>classic_bike</td><td>525</td><td>16806</td><td>2021-02-14T17:52:38Z</td><td>2021-02-14T18:12:09Z</td><td>20.0</td><td>13523.0</td></tr><tr><td>E6159D746B2DBB91</td><td>70870</td><td>electric_bike</td><td>KA1503000012</td><td>TA1305000029</td><td>2021-02-09T19:10:18Z</td><td>2021-02-09T19:19:10Z</td><td>9.0</td><td>12051.0</td></tr><tr><td>B32D3199F1C2E75B</td><td>58974</td><td>classic_bike</td><td>637</td><td>TA1305000034</td><td>2021-02-02T17:49:41Z</td><td>2021-02-02T17:54:06Z</td><td>4.0</td><td>7107.0</td></tr><tr><td>83E463F23575F4BF</td><td>39608</td><td>electric_bike</td><td>13216</td><td>TA1309000055</td><td>2021-02-23T15:07:23Z</td><td>2021-02-23T15:22:37Z</td><td>15.0</td><td>25961.0</td></tr><tr><td>BDAA7E3494E8D545</td><td>36267</td><td>electric_bike</td><td>18003</td><td>KP1705001026</td><td>2021-02-24T15:43:33Z</td><td>2021-02-24T15:49:05Z</td><td>6.0</td><td>10176.0</td></tr><tr><td>A772742351171257</td><td>50104</td><td>classic_bike</td><td>KP1705001026</td><td>KP1705001026</td><td>2021-02-01T17:47:42Z</td><td>2021-02-01T17:48:33Z</td><td>1.0</td><td>10697.0</td></tr><tr><td>295476889D9B79F8</td><td>19618</td><td>classic_bike</td><td>18003</td><td>18003</td><td>2021-02-11T18:33:53Z</td><td>2021-02-11T18:35:09Z</td><td>1.0</td><td>7767.0</td></tr><tr><td>362087194BA4CC9A</td><td>16732</td><td>classic_bike</td><td>KP1705001026</td><td>KP1705001026</td><td>2021-02-27T15:13:39Z</td><td>2021-02-27T15:36:36Z</td><td>23.0</td><td>5626.0</td></tr><tr><td>21630F715038CCB0</td><td>57068</td><td>classic_bike</td><td>KP1705001026</td><td>KP1705001026</td><td>2021-02-20T08:59:42Z</td><td>2021-02-20T09:17:04Z</td><td>17.0</td><td>16461.0</td></tr></tbody></table></div>"
      ]
     },
     "metadata": {
      "application/vnd.databricks.v1+output": {
       "addedWidgets": {},
       "aggData": [],
       "aggError": "",
       "aggOverflow": false,
       "aggSchema": [],
       "aggSeriesLimitReached": false,
       "aggType": "",
       "arguments": {},
       "columnCustomDisplayInfos": {},
       "data": [
        [
         "89E7AA6C29227EFF",
         71934,
         "classic_bike",
         "525",
         "660",
         "2021-02-12T16:14:56Z",
         "2021-02-12T16:21:43Z",
         7.0,
         13638.0
        ],
        [
         "0FEFDE2603568365",
         47854,
         "classic_bike",
         "525",
         "16806",
         "2021-02-14T17:52:38Z",
         "2021-02-14T18:12:09Z",
         20.0,
         13523.0
        ],
        [
         "E6159D746B2DBB91",
         70870,
         "electric_bike",
         "KA1503000012",
         "TA1305000029",
         "2021-02-09T19:10:18Z",
         "2021-02-09T19:19:10Z",
         9.0,
         12051.0
        ],
        [
         "B32D3199F1C2E75B",
         58974,
         "classic_bike",
         "637",
         "TA1305000034",
         "2021-02-02T17:49:41Z",
         "2021-02-02T17:54:06Z",
         4.0,
         7107.0
        ],
        [
         "83E463F23575F4BF",
         39608,
         "electric_bike",
         "13216",
         "TA1309000055",
         "2021-02-23T15:07:23Z",
         "2021-02-23T15:22:37Z",
         15.0,
         25961.0
        ],
        [
         "BDAA7E3494E8D545",
         36267,
         "electric_bike",
         "18003",
         "KP1705001026",
         "2021-02-24T15:43:33Z",
         "2021-02-24T15:49:05Z",
         6.0,
         10176.0
        ],
        [
         "A772742351171257",
         50104,
         "classic_bike",
         "KP1705001026",
         "KP1705001026",
         "2021-02-01T17:47:42Z",
         "2021-02-01T17:48:33Z",
         1.0,
         10697.0
        ],
        [
         "295476889D9B79F8",
         19618,
         "classic_bike",
         "18003",
         "18003",
         "2021-02-11T18:33:53Z",
         "2021-02-11T18:35:09Z",
         1.0,
         7767.0
        ],
        [
         "362087194BA4CC9A",
         16732,
         "classic_bike",
         "KP1705001026",
         "KP1705001026",
         "2021-02-27T15:13:39Z",
         "2021-02-27T15:36:36Z",
         23.0,
         5626.0
        ],
        [
         "21630F715038CCB0",
         57068,
         "classic_bike",
         "KP1705001026",
         "KP1705001026",
         "2021-02-20T08:59:42Z",
         "2021-02-20T09:17:04Z",
         17.0,
         16461.0
        ]
       ],
       "datasetInfos": [],
       "dbfsResultPath": null,
       "isJsonSchema": true,
       "metadata": {},
       "overflow": false,
       "plotOptions": {
        "customPlotOptions": {},
        "displayType": "table",
        "pivotAggregation": null,
        "pivotColumns": null,
        "xColumns": null,
        "yColumns": null
       },
       "removedWidgets": [],
       "schema": [
        {
         "metadata": "{}",
         "name": "trip_id",
         "type": "\"string\""
        },
        {
         "metadata": "{}",
         "name": "rider_id",
         "type": "\"integer\""
        },
        {
         "metadata": "{}",
         "name": "rideable_type",
         "type": "\"string\""
        },
        {
         "metadata": "{}",
         "name": "start_station_id",
         "type": "\"string\""
        },
        {
         "metadata": "{}",
         "name": "end_station_id",
         "type": "\"string\""
        },
        {
         "metadata": "{}",
         "name": "start_time_id",
         "type": "\"timestamp\""
        },
        {
         "metadata": "{}",
         "name": "end_time_id",
         "type": "\"timestamp\""
        },
        {
         "metadata": "{}",
         "name": "duration",
         "type": "\"double\""
        },
        {
         "metadata": "{}",
         "name": "rider_age",
         "type": "\"double\""
        }
       ],
       "type": "table"
      }
     },
     "output_type": "display_data"
    }
   ],
   "source": [
    "# transform data\n",
    "fact_trips = trips.alias(\"tbl1\").join(riders.alias(\"tbl2\"), col(\"tbl1.rider_id\") == col(\"tbl2.rider_id\"), \"left\") \\\n",
    "            .withColumn('duration', round((unix_timestamp(\"ended_at\") - unix_timestamp('start_at'))/60)) \\\n",
    "            .withColumn('rider_age', round((unix_timestamp(\"account_start_date\") - unix_timestamp('birthday'))/3600/24)) \\\n",
    "            .withColumnRenamed('start_at', 'start_time_id') \\\n",
    "            .withColumnRenamed('ended_at', 'end_time_id') \\\n",
    "            .select(\"trip_id\", col(\"tbl1.rider_id\"), \"rideable_type\", \"start_station_id\", \"end_station_id\", \"start_time_id\", \"end_time_id\", \"duration\", \"rider_age\")\n",
    "            \n",
    "display(fact_trips.limit(10))"
   ]
  },
  {
   "cell_type": "code",
   "execution_count": 0,
   "metadata": {
    "application/vnd.databricks.v1+cell": {
     "cellMetadata": {
      "byteLimit": 2048000,
      "rowLimit": 10000
     },
     "inputWidgets": {},
     "nuid": "55cdd6d8-9014-4688-9a80-bca48c8dc626",
     "showTitle": false,
     "title": ""
    }
   },
   "outputs": [],
   "source": [
    "# write data to fact_trip\n",
    "spark.sql(\"drop table if exists default.fact_trip\")\n",
    "fact_trips.write.format(\"delta\").mode(\"overwrite\").saveAsTable(\"default.fact_trip\")"
   ]
  },
  {
   "cell_type": "code",
   "execution_count": 0,
   "metadata": {
    "application/vnd.databricks.v1+cell": {
     "cellMetadata": {
      "byteLimit": 2048000,
      "rowLimit": 10000
     },
     "inputWidgets": {},
     "nuid": "a0add008-a635-4be7-9080-add380e53853",
     "showTitle": true,
     "title": "Load dim_time"
    }
   },
   "outputs": [
    {
     "output_type": "stream",
     "name": "stdout",
     "output_type": "stream",
     "text": [
      "+-------------------+\n|          min(date)|\n+-------------------+\n|2021-02-01 00:00:00|\n+-------------------+\n\n+-------------------+\n|          max(date)|\n+-------------------+\n|2032-01-31 00:00:00|\n+-------------------+\n\n"
     ]
    }
   ],
   "source": [
    "from pyspark.sql import functions as f\n",
    "from pyspark.sql.types import StringType\n",
    "# min date from trips\n",
    "min_date = trips.selectExpr('MIN(start_at) AS started_at').first().asDict()['started_at']\n",
    "# add date range as max start_at from trip plus 10 years\n",
    "max_date = trips.selectExpr('DATEADD(year, 10, MAX(start_at)) AS started_at').first().asDict()['started_at']\n",
    "expression = f\"sequence(to_date('{min_date}'), to_date('{max_date}'), interval 1 day)\"\n",
    "dim_time = spark.createDataFrame([(1,)], [\"time_id\"])\n",
    "\n",
    "dim_time = dim_time.withColumn(\"dateinit\", f.explode(f.expr(expression)))\n",
    "dim_time = dim_time.withColumn(\"date\", f.to_timestamp(dim_time.dateinit, \"yyyy-MM-dd\"))\n",
    "\n",
    "dim_time = dim_time \\\n",
    "            .withColumn(\"day_of_week\", f.dayofweek(dim_time.date)) \\\n",
    "            .withColumn(\"day_of_month\", f.dayofmonth(dim_time.date)) \\\n",
    "            .withColumn(\"week_of_year\", f.weekofyear(dim_time.date)) \\\n",
    "            .withColumn(\"year\", f.year(dim_time.date)) \\\n",
    "            .withColumn(\"quarter\", f.quarter(dim_time.date)) \\\n",
    "            .withColumn(\"month\", f.month(dim_time.date)) \\\n",
    "            .withColumn(\"time_id\", dim_time.date.cast(StringType())) \\\n",
    "            .drop(f.col(\"dateinit\"))\n",
    "\n",
    "display(dim_time.selectExpr('MIN(date)').show())\n",
    "display(dim_time.selectExpr('MAX(date)').show())"
   ]
  },
  {
   "cell_type": "code",
   "execution_count": 0,
   "metadata": {
    "application/vnd.databricks.v1+cell": {
     "cellMetadata": {
      "byteLimit": 2048000,
      "rowLimit": 10000
     },
     "inputWidgets": {},
     "nuid": "75b2122a-4167-4279-8a7c-f93524089304",
     "showTitle": false,
     "title": ""
    }
   },
   "outputs": [],
   "source": [
    "\n",
    "# write data to dim_time\n",
    "spark.sql(\"drop table if exists default.dim_time\")\n",
    "dim_time.write.format(\"delta\").mode(\"overwrite\").saveAsTable(\"default.dim_time\")"
   ]
  }
 ],
 "metadata": {
  "application/vnd.databricks.v1+notebook": {
   "dashboards": [],
   "language": "python",
   "notebookMetadata": {
    "pythonIndentUnit": 4
   },
   "notebookName": "transform_data",
   "widgets": {}
  }
 },
 "nbformat": 4,
 "nbformat_minor": 0
}
